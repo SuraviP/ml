{
 "cells": [
  {
   "cell_type": "code",
   "execution_count": 12,
   "metadata": {},
   "outputs": [],
   "source": [
    "from sklearn.feature_extraction.text import TfidfVectorizer\n",
    "from sklearn.decomposition import TruncatedSVD\n",
    "import nltk"
   ]
  },
  {
   "cell_type": "code",
   "execution_count": 38,
   "metadata": {},
   "outputs": [],
   "source": [
    "\n",
    "data=[\"The amount of polution is increasing day by day\",\n",
    "           \"The concert was just great\",\n",
    "           \"I love to see Gordon Ramsay cook\",\n",
    "           \"Google is introducing a new technology\",\n",
    "           \"AI Robots are examples of great technology present today\",\n",
    "           \"All of us were singing in the concert\",\n",
    "           \"We have launch campaigns to stop pollution and global warming\",\n",
    "             \"The music festival was awesome\",\n",
    "            \"She sang at the cultural festival\",\n",
    "            # \"The songs of 90s are so soothing\",\n",
    "        # \"Music helps to calm the mind\",\n",
    "         \"Good food and healthy diet is important\",\n",
    "      #\"The new restaurant provides great food and variety of cuisines\",\n",
    "     # \"He cooks very well.\",\n",
    "     \"The tech park is equipped with new technology\",\n",
    "     # \"There are games that let you experience virtual reality\",\n",
    "     #\"Interactive technology is a trend\",\n",
    "     \"The glaciers are melting due to global warming\",\n",
    "     # \"The pollution levels are very high in populated cities\",\n",
    "     # \"Dumping of toxic wastes into water bodies is causing water pollution\"\n",
    "     ]"
   ]
  },
  {
   "cell_type": "code",
   "execution_count": 39,
   "metadata": {},
   "outputs": [
    {
     "data": {
      "text/plain": [
       "['the amount of polution is increasing day by day',\n",
       " 'the concert was just great',\n",
       " 'i love to see gordon ramsay cook',\n",
       " 'google is introducing a new technology',\n",
       " 'ai robots are examples of great technology present today',\n",
       " 'all of us were singing in the concert',\n",
       " 'we have launch campaigns to stop pollution and global warming',\n",
       " 'the music festival was awesome',\n",
       " 'she sang at the cultural festival',\n",
       " 'good food and healthy diet is important',\n",
       " 'the tech park is equipped with new technology',\n",
       " 'the glaciers are melting due to global warming']"
      ]
     },
     "execution_count": 39,
     "metadata": {},
     "output_type": "execute_result"
    }
   ],
   "source": [
    "data=[line.lower() for line in data]\n",
    "data\n"
   ]
  },
  {
   "cell_type": "code",
   "execution_count": 40,
   "metadata": {},
   "outputs": [
    {
     "name": "stdout",
     "output_type": "stream",
     "text": [
      "  (0, 7)\t0.32779354404936367\n",
      "  (0, 12)\t0.6555870880987273\n",
      "  (0, 29)\t0.32779354404936367\n",
      "  (0, 31)\t0.22320619162083782\n",
      "  (0, 41)\t0.32779354404936367\n",
      "  (0, 38)\t0.24867626616335475\n",
      "  (0, 2)\t0.32779354404936367\n",
      "  (0, 52)\t0.16955898827734575\n"
     ]
    }
   ],
   "source": [
    "#tf-idf model\n",
    "vect=TfidfVectorizer()\n",
    "x=vect.fit_transform(data)\n",
    "print(x[0])"
   ]
  },
  {
   "cell_type": "code",
   "execution_count": 41,
   "metadata": {},
   "outputs": [
    {
     "data": {
      "text/plain": [
       "array([0.08460573, 0.09135366, 0.06942313, 0.06839815, 0.14386926,\n",
       "       0.08764257, 0.14515404, 0.06942313, 0.03646925, 0.22654811,\n",
       "       0.01858069, 0.08764257, 0.13884627, 0.04317354, 0.08291559,\n",
       "       0.12592382, 0.08460573, 0.19992843, 0.04317354, 0.08291559,\n",
       "       0.10252909, 0.04317354, 0.12960156, 0.01858069, 0.22075291,\n",
       "       0.03646925, 0.04317354, 0.04317354, 0.09135366, 0.06942313,\n",
       "       0.12960156, 0.25066729, 0.17243889, 0.03646925, 0.01858069,\n",
       "       0.08291559, 0.14515404, 0.21944816, 0.18615623, 0.12592382,\n",
       "       0.03646925, 0.06942313, 0.08460573, 0.01858069, 0.08460573,\n",
       "       0.08764257, 0.01858069, 0.08764257, 0.09135366, 0.03646925,\n",
       "       0.12592382, 0.258036  , 0.40081043, 0.10466573, 0.08460573,\n",
       "       0.09135366, 0.10252909, 0.2727525 , 0.03646925, 0.09135366,\n",
       "       0.12592382])"
      ]
     },
     "execution_count": 41,
     "metadata": {},
     "output_type": "execute_result"
    }
   ],
   "source": [
    "#decompose into three matrices:matrix(rxn)\n",
    "lsa=TruncatedSVD(n_components=4,n_iter=100)#group into four context(music,food,tech,environment)\n",
    "lsa.fit(x)\n",
    "r1=lsa.components_[0]\n",
    "r1\n",
    "#4x42 matrix"
   ]
  },
  {
   "cell_type": "code",
   "execution_count": 42,
   "metadata": {},
   "outputs": [
    {
     "data": {
      "text/plain": [
       "{'Concept0': [('the', 0.4008104289946716),\n",
       "  ('was', 0.27275249505095284),\n",
       "  ('technology', 0.25803599879184114),\n",
       "  ('is', 0.25066729295524015),\n",
       "  ('concert', 0.22654810827645577),\n",
       "  ('great', 0.22075290842422965),\n",
       "  ('new', 0.2194481622604583),\n",
       "  ('festival', 0.19992843107391015),\n",
       "  ('of', 0.18615623301076267),\n",
       "  ('just', 0.17243889031144094)],\n",
       " 'Concept1': [('is', 0.35228912827085945),\n",
       "  ('new', 0.34813923492898563),\n",
       "  ('technology', 0.3245550803666121),\n",
       "  ('google', 0.24536046554399757),\n",
       "  ('introducing', 0.24536046554399757),\n",
       "  ('with', 0.16001275995069433),\n",
       "  ('equipped', 0.1600127599506943),\n",
       "  ('park', 0.1600127599506943),\n",
       "  ('tech', 0.1600127599506943),\n",
       "  ('diet', 0.08339941210117513)],\n",
       " 'Concept2': [('to', 0.39717087432552456),\n",
       "  ('global', 0.33882510362907853),\n",
       "  ('warming', 0.33882510362907853),\n",
       "  ('and', 0.20448344408799693),\n",
       "  ('due', 0.20416508113266674),\n",
       "  ('glaciers', 0.20416508113266674),\n",
       "  ('melting', 0.20416508113266674),\n",
       "  ('campaigns', 0.19036277254263054),\n",
       "  ('have', 0.19036277254263054),\n",
       "  ('launch', 0.19036277254263054)],\n",
       " 'Concept3': [('festival', 0.3524699202667625),\n",
       "  ('at', 0.22024678928509583),\n",
       "  ('cultural', 0.22024678928509583),\n",
       "  ('sang', 0.22024678928509583),\n",
       "  ('she', 0.22024678928509583),\n",
       "  ('awesome', 0.19016908497722282),\n",
       "  ('music', 0.19016908497722282),\n",
       "  ('is', 0.09937509036692034),\n",
       "  ('new', 0.09834033952822356),\n",
       "  ('and', 0.09390827094674911)]}"
      ]
     },
     "execution_count": 42,
     "metadata": {},
     "output_type": "execute_result"
    }
   ],
   "source": [
    "concept_words={}\n",
    "terms=vect.get_feature_names()\n",
    "for i,comp in enumerate(lsa.components_):\n",
    "    componentTerms=zip(terms,comp)\n",
    "    sortedTerms=sorted(componentTerms,key=lambda x:x[1],reverse=True)\n",
    "    sortedTerms=sortedTerms[:10]\n",
    "    concept_words[\"Concept\"+str(i)]=sortedTerms#stores top 10 keywords for each concept\n",
    "concept_words"
   ]
  },
  {
   "cell_type": "code",
   "execution_count": 43,
   "metadata": {},
   "outputs": [
    {
     "name": "stdout",
     "output_type": "stream",
     "text": [
      "\n",
      "Concept0:\n",
      "0.8376339549606745\n",
      "1.2933028310577508\n",
      "0\n",
      "0.7281514540075396\n",
      "0.6649451402268335\n",
      "0.8135147702818901\n",
      "0\n",
      "0.8734913551195347\n",
      "0.6007388600685818\n",
      "0.25066729295524015\n",
      "1.1289618830022112\n",
      "0.4008104289946716\n",
      "\n",
      "Concept1:\n",
      "0.35228912827085945\n",
      "0\n",
      "0\n",
      "1.5157043746544525\n",
      "0.3245550803666121\n",
      "0\n",
      "0\n",
      "0\n",
      "0\n",
      "0.4356885403720346\n",
      "1.6650344833692345\n",
      "0\n",
      "\n",
      "Concept2:\n",
      "0\n",
      "0\n",
      "0.39717087432552456\n",
      "0\n",
      "0\n",
      "0\n",
      "1.8503928432995702\n",
      "0\n",
      "0\n",
      "0.20448344408799693\n",
      "0\n",
      "1.687316324981682\n",
      "\n",
      "Concept3:\n",
      "0.09937509036692034\n",
      "0\n",
      "0\n",
      "0.1977154298951439\n",
      "0\n",
      "0\n",
      "0.09390827094674911\n",
      "0.7328080902212082\n",
      "1.2334570774071458\n",
      "0.19328336131366947\n",
      "0.1977154298951439\n",
      "0\n"
     ]
    }
   ],
   "source": [
    "#sentence concept\n",
    "for key in concept_words.keys():\n",
    "    sentence_score=[]\n",
    "    for sentence in data:\n",
    "        words=nltk.word_tokenize(sentence)\n",
    "        score=0\n",
    "        for word in words:\n",
    "            for word_score in concept_words[key]:\n",
    "                if word==word_score[0]:\n",
    "                    score+=word_score[1]\n",
    "        sentence_score.append(score)\n",
    "    print(\"\\n\"+key+\":\")\n",
    "    for sentence in sentence_score:\n",
    "        print(sentence)\n",
    "    "
   ]
  },
  {
   "cell_type": "code",
   "execution_count": null,
   "metadata": {},
   "outputs": [],
   "source": []
  },
  {
   "cell_type": "code",
   "execution_count": null,
   "metadata": {},
   "outputs": [],
   "source": []
  }
 ],
 "metadata": {
  "kernelspec": {
   "display_name": "Python 3",
   "language": "python",
   "name": "python3"
  },
  "language_info": {
   "codemirror_mode": {
    "name": "ipython",
    "version": 3
   },
   "file_extension": ".py",
   "mimetype": "text/x-python",
   "name": "python",
   "nbconvert_exporter": "python",
   "pygments_lexer": "ipython3",
   "version": "3.7.0"
  }
 },
 "nbformat": 4,
 "nbformat_minor": 4
}
